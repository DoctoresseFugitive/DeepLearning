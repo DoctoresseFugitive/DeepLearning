{
 "cells": [
  {
   "cell_type": "code",
   "execution_count": 1,
   "metadata": {},
   "outputs": [
    {
     "name": "stderr",
     "output_type": "stream",
     "text": [
      "Using TensorFlow backend.\n"
     ]
    },
    {
     "name": "stdout",
     "output_type": "stream",
     "text": [
      "Downloading data from http://www.cs.toronto.edu/~kriz/cifar-10-python.tar.gz\n"
     ]
    }
   ],
   "source": [
    "from keras.datasets import cifar10\n",
    "(X_train, y_train), (X_test, y_test) = cifar10.load_data()"
   ]
  },
  {
   "cell_type": "code",
   "execution_count": 2,
   "metadata": {
    "collapsed": true
   },
   "outputs": [],
   "source": [
    "X_train = X_train.astype('float32')\n",
    "X_test = X_test.astype('float32')\n",
    "X_train = X_train / 255.0\n",
    "X_test = X_test / 255.0"
   ]
  },
  {
   "cell_type": "code",
   "execution_count": 3,
   "metadata": {
    "collapsed": true
   },
   "outputs": [],
   "source": [
    "from keras.utils import np_utils\n",
    "y_train = np_utils.to_categorical(y_train)\n",
    "y_test = np_utils.to_categorical(y_test)"
   ]
  },
  {
   "cell_type": "code",
   "execution_count": 4,
   "metadata": {
    "collapsed": true
   },
   "outputs": [],
   "source": [
    "from keras.layers import Input\n",
    "input_img = Input(shape = (32, 32, 3))"
   ]
  },
  {
   "cell_type": "code",
   "execution_count": 5,
   "metadata": {
    "collapsed": true
   },
   "outputs": [],
   "source": [
    "from keras.layers import Conv2D, MaxPooling2D\n",
    "tower_1 = Conv2D(64, (1,1), padding='same', activation='relu')(input_img)\n",
    "tower_1 = Conv2D(64, (3,3), padding='same', activation='relu')(tower_1)\n",
    "tower_2 = Conv2D(64, (1,1), padding='same', activation='relu')(input_img)\n",
    "tower_2 = Conv2D(64, (5,5), padding='same', activation='relu')(tower_2)\n",
    "tower_3 = MaxPooling2D((3,3), strides=(1,1), padding='same')(input_img)\n",
    "tower_3 = Conv2D(64, (1,1), padding='same', activation='relu')(tower_3)"
   ]
  },
  {
   "cell_type": "code",
   "execution_count": 8,
   "metadata": {},
   "outputs": [],
   "source": [
    "import keras\n",
    "output = keras.layers.concatenate([tower_1, tower_2, tower_3], axis = 3)"
   ]
  },
  {
   "cell_type": "code",
   "execution_count": 9,
   "metadata": {
    "collapsed": true
   },
   "outputs": [],
   "source": [
    "from keras.layers import Flatten, Dense\n",
    "output = Flatten()(output)\n",
    "out    = Dense(10, activation='softmax')(output)"
   ]
  },
  {
   "cell_type": "code",
   "execution_count": 10,
   "metadata": {
    "collapsed": true
   },
   "outputs": [],
   "source": [
    "from keras.models import Model\n",
    "model = Model(inputs = input_img, outputs = out)\n",
    "# print model.summary()"
   ]
  },
  {
   "cell_type": "code",
   "execution_count": 12,
   "metadata": {
    "collapsed": true
   },
   "outputs": [],
   "source": [
    "import os\n",
    "\n",
    "os.environ[\"CUDA_DEVICE_ORDER\"]=\"PCI_BUS_ID\"\n",
    "os.environ[\"CUDA_VISIBLE_DEVICES\"]=\"1\"\n"
   ]
  },
  {
   "cell_type": "code",
   "execution_count": null,
   "metadata": {},
   "outputs": [
    {
     "name": "stdout",
     "output_type": "stream",
     "text": [
      "Train on 50000 samples, validate on 10000 samples\n",
      "Epoch 1/25\n",
      "50000/50000 [==============================] - 91s - loss: 0.9521 - acc: 0.6686 - val_loss: 1.1217 - val_acc: 0.6161\n",
      "Epoch 2/25\n",
      "50000/50000 [==============================] - 90s - loss: 0.7569 - acc: 0.7381 - val_loss: 1.0909 - val_acc: 0.6408\n",
      "Epoch 3/25\n",
      "50000/50000 [==============================] - 91s - loss: 0.6247 - acc: 0.7852 - val_loss: 1.1519 - val_acc: 0.6284\n",
      "Epoch 4/25\n",
      "50000/50000 [==============================] - 92s - loss: 0.5258 - acc: 0.8202 - val_loss: 1.1982 - val_acc: 0.6303\n",
      "Epoch 5/25\n",
      "50000/50000 [==============================] - 92s - loss: 0.4415 - acc: 0.8500 - val_loss: 1.2372 - val_acc: 0.6391\n",
      "Epoch 6/25\n",
      "50000/50000 [==============================] - 92s - loss: 0.3700 - acc: 0.8770 - val_loss: 1.3155 - val_acc: 0.6384\n",
      "Epoch 7/25\n",
      "50000/50000 [==============================] - 92s - loss: 0.3095 - acc: 0.9009 - val_loss: 1.3880 - val_acc: 0.6296\n",
      "Epoch 8/25\n",
      "50000/50000 [==============================] - 92s - loss: 0.2566 - acc: 0.9211 - val_loss: 1.4756 - val_acc: 0.6367\n",
      "Epoch 9/25\n",
      "50000/50000 [==============================] - 92s - loss: 0.2135 - acc: 0.9355 - val_loss: 1.6000 - val_acc: 0.6310\n",
      "Epoch 10/25\n",
      "50000/50000 [==============================] - 92s - loss: 0.1729 - acc: 0.9532 - val_loss: 1.6528 - val_acc: 0.6293\n",
      "Epoch 11/25\n",
      "50000/50000 [==============================] - 92s - loss: 0.1436 - acc: 0.9641 - val_loss: 1.7190 - val_acc: 0.6279\n",
      "Epoch 12/25\n",
      "50000/50000 [==============================] - 92s - loss: 0.1179 - acc: 0.9732 - val_loss: 1.8056 - val_acc: 0.6255\n",
      "Epoch 13/25\n",
      "50000/50000 [==============================] - 92s - loss: 0.0984 - acc: 0.9800 - val_loss: 1.8777 - val_acc: 0.6253\n",
      "Epoch 14/25\n",
      "50000/50000 [==============================] - 92s - loss: 0.0813 - acc: 0.9863 - val_loss: 1.9472 - val_acc: 0.6264\n",
      "Epoch 15/25\n",
      "50000/50000 [==============================] - 92s - loss: 0.0688 - acc: 0.9893 - val_loss: 2.0070 - val_acc: 0.6246\n",
      "Epoch 16/25\n",
      "50000/50000 [==============================] - 92s - loss: 0.0588 - acc: 0.9915 - val_loss: 2.0654 - val_acc: 0.6258\n",
      "Epoch 17/25\n",
      "50000/50000 [==============================] - 92s - loss: 0.0503 - acc: 0.9940 - val_loss: 2.1155 - val_acc: 0.6247\n",
      "Epoch 18/25\n",
      "50000/50000 [==============================] - 92s - loss: 0.0440 - acc: 0.9950 - val_loss: 2.1679 - val_acc: 0.6251\n",
      "Epoch 19/25\n",
      "50000/50000 [==============================] - 92s - loss: 0.0387 - acc: 0.9962 - val_loss: 2.2063 - val_acc: 0.6226\n",
      "Epoch 20/25\n",
      "50000/50000 [==============================] - 92s - loss: 0.0347 - acc: 0.9968 - val_loss: 2.2457 - val_acc: 0.6226\n",
      "Epoch 21/25\n",
      "50000/50000 [==============================] - 92s - loss: 0.0312 - acc: 0.9977 - val_loss: 2.2692 - val_acc: 0.6200\n",
      "Epoch 22/25\n",
      "50000/50000 [==============================] - 92s - loss: 0.0283 - acc: 0.9979 - val_loss: 2.3021 - val_acc: 0.6238\n",
      "Epoch 23/25\n",
      "50000/50000 [==============================] - 92s - loss: 0.0260 - acc: 0.9983 - val_loss: 2.3292 - val_acc: 0.6216\n",
      "Epoch 24/25\n",
      "50000/50000 [==============================] - 92s - loss: 0.0239 - acc: 0.9986 - val_loss: 2.3665 - val_acc: 0.6204\n",
      "Epoch 25/25\n",
      "50000/50000 [==============================] - 92s - loss: 0.0223 - acc: 0.9987 - val_loss: 2.3814 - val_acc: 0.6205\n"
     ]
    },
    {
     "data": {
      "text/plain": [
       "<keras.callbacks.History at 0x7f34980a1c18>"
      ]
     },
     "execution_count": 13,
     "metadata": {},
     "output_type": "execute_result"
    }
   ],
   "source": [
    "from keras.optimizers import SGD\n",
    "epochs = 25\n",
    "lrate = 0.01\n",
    "decay = lrate/epochs\n",
    "sgd = SGD(lr=lrate, momentum=0.9, decay=decay, nesterov=False)\n",
    "model.compile(loss='categorical_crossentropy', optimizer=sgd, metrics=['accuracy'])\n",
    "model.fit(X_train, y_train, validation_data=(X_test, y_test), epochs=epochs, batch_size=32)"
   ]
  },
  {
   "cell_type": "code",
   "execution_count": null,
   "metadata": {
    "collapsed": true
   },
   "outputs": [],
   "source": [
    "from keras.models import model_from_json\n",
    "import os\n",
    "model_json = model.to_json()\n",
    "with open(\"model.json\", \"w\") as json_file:\n",
    "    json_file.write(model_json)\n",
    "model.save_weights(os.path.join(os.getcwd(), 'model.h5'))"
   ]
  },
  {
   "cell_type": "code",
   "execution_count": null,
   "metadata": {
    "collapsed": true
   },
   "outputs": [],
   "source": [
    "scores = model.evaluate(X_test, y_test, verbose=0)\n",
    "print(\"Accuracy: %.2f%%\" % (scores[1]*100))"
   ]
  }
 ],
 "metadata": {
  "kernelspec": {
   "display_name": "Python 3",
   "language": "python",
   "name": "python3"
  },
  "language_info": {
   "codemirror_mode": {
    "name": "ipython",
    "version": 3
   },
   "file_extension": ".py",
   "mimetype": "text/x-python",
   "name": "python",
   "nbconvert_exporter": "python",
   "pygments_lexer": "ipython3",
   "version": "3.4.2"
  }
 },
 "nbformat": 4,
 "nbformat_minor": 2
}
