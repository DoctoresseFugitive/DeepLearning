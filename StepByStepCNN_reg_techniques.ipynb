{
 "cells": [
  {
   "cell_type": "markdown",
   "metadata": {},
   "source": [
    "# CNN TUNNING with MNIST DATASET\n",
    "##taken from: Deep MNIST for Experts"
   ]
  },
  {
   "cell_type": "code",
   "execution_count": 33,
   "metadata": {
    "collapsed": true
   },
   "outputs": [],
   "source": [
    "##Defining and creating the net"
   ]
  },
  {
   "cell_type": "code",
   "execution_count": 34,
   "metadata": {
    "collapsed": true
   },
   "outputs": [],
   "source": [
    "#required imports\n",
    "import os\n",
    "\n",
    "os.environ[\"CUDA_DEVICE_ORDER\"]=\"PCI_BUS_ID\"\n",
    "os.environ[\"CUDA_VISIBLE_DEVICES\"]=\"1\"\n",
    "\n",
    "import tensorflow as tf\n",
    "\n",
    "from tensorflow.examples.tutorials.mnist import input_data\n",
    "sess = tf.InteractiveSession()\n",
    "import time"
   ]
  },
  {
   "cell_type": "markdown",
   "metadata": {},
   "source": [
    "# Input data loading"
   ]
  },
  {
   "cell_type": "code",
   "execution_count": 35,
   "metadata": {},
   "outputs": [
    {
     "name": "stdout",
     "output_type": "stream",
     "text": [
      "Extracting MNIST_data/train-images-idx3-ubyte.gz\n",
      "Extracting MNIST_data/train-labels-idx1-ubyte.gz\n",
      "Extracting MNIST_data/t10k-images-idx3-ubyte.gz\n",
      "Extracting MNIST_data/t10k-labels-idx1-ubyte.gz\n"
     ]
    }
   ],
   "source": [
    "\n",
    "mnist = input_data.read_data_sets(\"MNIST_data/\", one_hot=True)\n",
    "\n",
    "# Python optimisation variables\n",
    "learning_rate = 0.0001\n",
    "epochs = 5\n",
    "batch_size = 50\n",
    "\n"
   ]
  },
  {
   "cell_type": "markdown",
   "metadata": {},
   "source": [
    "## Input data and placeholders"
   ]
  },
  {
   "cell_type": "code",
   "execution_count": 36,
   "metadata": {
    "collapsed": true
   },
   "outputs": [],
   "source": [
    "#Input data and placeholders\n",
    "# declare the training data placeholders\n",
    "# input x - for 28 x 28 pixels = 784 - this is the flattened image data that is drawn from \n",
    "# mnist.train.nextbatch()\n",
    "x = tf.placeholder(tf.float32, [None, 784])\n",
    "# dynamically reshape the input\n",
    "x_shaped = tf.reshape(x, [-1, 28, 28, 1])\n",
    "# now declare the output data placeholder - 10 digits\n",
    "y_ = tf.placeholder(tf.float32, [None, 10])\n",
    "W = tf.Variable(tf.zeros([784,10]))\n",
    "b = tf.Variable(tf.zeros([10]))\n",
    "sess.run(tf.global_variables_initializer())\n",
    "y = tf.matmul(x,W) + b\n"
   ]
  },
  {
   "cell_type": "code",
   "execution_count": null,
   "metadata": {
    "collapsed": true
   },
   "outputs": [],
   "source": []
  },
  {
   "cell_type": "code",
   "execution_count": null,
   "metadata": {
    "collapsed": true
   },
   "outputs": [],
   "source": []
  },
  {
   "cell_type": "code",
   "execution_count": null,
   "metadata": {
    "collapsed": true
   },
   "outputs": [],
   "source": []
  },
  {
   "cell_type": "code",
   "execution_count": null,
   "metadata": {
    "collapsed": true
   },
   "outputs": [],
   "source": []
  },
  {
   "cell_type": "markdown",
   "metadata": {},
   "source": []
  },
  {
   "cell_type": "code",
   "execution_count": null,
   "metadata": {
    "collapsed": true
   },
   "outputs": [],
   "source": []
  },
  {
   "cell_type": "markdown",
   "metadata": {},
   "source": [
    "# Step by step constructiong the CNN\n",
    "#i appreciuate this code cuz it's a step by step cnn construction!"
   ]
  },
  {
   "cell_type": "code",
   "execution_count": 37,
   "metadata": {
    "collapsed": true
   },
   "outputs": [],
   "source": [
    "#Weight Initialization\n",
    "\n",
    "\n",
    "def weight_variable(shape):\n",
    "  initial = tf.truncated_normal(shape, stddev=0.1)\n",
    "  return tf.Variable(initial)\n",
    "\n",
    "def bias_variable(shape):\n",
    "  initial = tf.constant(0.1, shape=shape)\n",
    "  return tf.Variable(initial)"
   ]
  },
  {
   "cell_type": "code",
   "execution_count": 38,
   "metadata": {
    "collapsed": true
   },
   "outputs": [],
   "source": [
    "#pooling\n",
    "def conv2d(x, W):\n",
    "  return tf.nn.conv2d(x, W, strides=[1, 1, 1, 1], padding='SAME')\n",
    "\n",
    "def max_pool_2x2(x):\n",
    "  return tf.nn.max_pool(x, ksize=[1, 2, 2, 1],\n",
    "                        strides=[1, 2, 2, 1], padding='SAME')"
   ]
  },
  {
   "cell_type": "code",
   "execution_count": 39,
   "metadata": {
    "collapsed": true
   },
   "outputs": [],
   "source": [
    "#ConvLayers\n",
    "##First_convLayer\n",
    "W_conv1 = weight_variable([5, 5, 1, 32])\n",
    "b_conv1 = bias_variable([32])"
   ]
  },
  {
   "cell_type": "code",
   "execution_count": 40,
   "metadata": {
    "collapsed": true
   },
   "outputs": [],
   "source": [
    "#image_reshape\n",
    "x_image = tf.reshape(x, [-1,28,28,1])"
   ]
  },
  {
   "cell_type": "code",
   "execution_count": 41,
   "metadata": {
    "collapsed": true
   },
   "outputs": [],
   "source": [
    "##ConvOperation\n",
    "h_conv1 = tf.nn.relu(conv2d(x_image, W_conv1) + b_conv1)\n",
    "h_pool1 = max_pool_2x2(h_conv1)"
   ]
  },
  {
   "cell_type": "code",
   "execution_count": 42,
   "metadata": {
    "collapsed": true
   },
   "outputs": [],
   "source": [
    "W_conv2 = weight_variable([5, 5, 32, 64])\n",
    "b_conv2 = bias_variable([64])\n",
    "\n",
    "h_conv2 = tf.nn.relu(conv2d(h_pool1, W_conv2) + b_conv2)\n",
    "h_pool2 = max_pool_2x2(h_conv2)"
   ]
  },
  {
   "cell_type": "code",
   "execution_count": 43,
   "metadata": {
    "collapsed": true
   },
   "outputs": [],
   "source": [
    "W_fc1 = weight_variable([7 * 7 * 64, 1024])\n",
    "b_fc1 = bias_variable([1024])\n",
    "\n",
    "h_pool2_flat = tf.reshape(h_pool2, [-1, 7*7*64])\n",
    "h_fc1 = tf.nn.relu(tf.matmul(h_pool2_flat, W_fc1) + b_fc1)"
   ]
  },
  {
   "cell_type": "markdown",
   "metadata": {},
   "source": [
    "# Dropout implementation"
   ]
  },
  {
   "cell_type": "code",
   "execution_count": 44,
   "metadata": {
    "collapsed": true
   },
   "outputs": [],
   "source": [
    "keep_prob = tf.placeholder(tf.float32)\n",
    "h_fc1_drop = tf.nn.dropout(h_fc1, keep_prob)"
   ]
  },
  {
   "cell_type": "code",
   "execution_count": 45,
   "metadata": {
    "collapsed": true
   },
   "outputs": [],
   "source": [
    "W_fc2 = weight_variable([1024, 10])\n",
    "b_fc2 = bias_variable([10])\n",
    "\n",
    "y_conv = tf.matmul(h_fc1_drop, W_fc2) + b_fc2\n"
   ]
  },
  {
   "cell_type": "code",
   "execution_count": 46,
   "metadata": {
    "collapsed": true
   },
   "outputs": [],
   "source": [
    "cross_entropy = tf.reduce_mean(\n",
    "    tf.nn.softmax_cross_entropy_with_logits(labels=y_, logits=y_conv))\n",
    " "
   ]
  },
  {
   "cell_type": "markdown",
   "metadata": {},
   "source": [
    "# SimpleNet"
   ]
  },
  {
   "cell_type": "code",
   "execution_count": null,
   "metadata": {
    "collapsed": true
   },
   "outputs": [],
   "source": []
  },
  {
   "cell_type": "code",
   "execution_count": 18,
   "metadata": {},
   "outputs": [
    {
     "name": "stdout",
     "output_type": "stream",
     "text": [
      "step 0, training accuracy 0.08\n",
      "step 0, test accuracy 0.06\n",
      "step 100, training accuracy 0.86\n",
      "step 100, test accuracy 0.8\n",
      "step 200, training accuracy 0.86\n",
      "step 200, test accuracy 0.82\n",
      "step 300, training accuracy 0.96\n",
      "step 300, test accuracy 0.94\n",
      "step 400, training accuracy 0.88\n",
      "step 400, test accuracy 0.9\n",
      "step 500, training accuracy 0.88\n",
      "step 500, test accuracy 0.92\n",
      "step 600, training accuracy 0.98\n",
      "step 600, test accuracy 0.92\n",
      "step 700, training accuracy 0.96\n",
      "step 700, test accuracy 0.96\n",
      "step 800, training accuracy 0.94\n",
      "step 800, test accuracy 0.96\n",
      "step 900, training accuracy 0.96\n",
      "step 900, test accuracy 0.96\n",
      "step 1000, training accuracy 0.98\n",
      "step 1000, test accuracy 1\n",
      "step 1100, training accuracy 1\n",
      "step 1100, test accuracy 0.98\n",
      "step 1200, training accuracy 1\n",
      "step 1200, test accuracy 0.98\n",
      "step 1300, training accuracy 0.98\n",
      "step 1300, test accuracy 1\n",
      "step 1400, training accuracy 0.98\n",
      "step 1400, test accuracy 0.98\n",
      "step 1500, training accuracy 0.94\n",
      "step 1500, test accuracy 0.98\n",
      "step 1600, training accuracy 0.98\n",
      "step 1600, test accuracy 0.98\n",
      "step 1700, training accuracy 1\n",
      "step 1700, test accuracy 0.92\n",
      "step 1800, training accuracy 0.98\n",
      "step 1800, test accuracy 1\n",
      "step 1900, training accuracy 1\n",
      "step 1900, test accuracy 1\n",
      "step 2000, training accuracy 1\n",
      "step 2000, test accuracy 1\n",
      "step 2100, training accuracy 0.98\n",
      "step 2100, test accuracy 1\n",
      "step 2200, training accuracy 1\n",
      "step 2200, test accuracy 0.94\n",
      "step 2300, training accuracy 0.96\n",
      "step 2300, test accuracy 1\n",
      "step 2400, training accuracy 1\n",
      "step 2400, test accuracy 0.94\n",
      "step 2500, training accuracy 0.98\n",
      "step 2500, test accuracy 0.98\n",
      "step 2600, training accuracy 0.98\n",
      "step 2600, test accuracy 0.98\n",
      "step 2700, training accuracy 1\n",
      "step 2700, test accuracy 0.96\n",
      "step 2800, training accuracy 1\n",
      "step 2800, test accuracy 1\n",
      "step 2900, training accuracy 1\n",
      "step 2900, test accuracy 0.98\n",
      "step 3000, training accuracy 0.92\n",
      "step 3000, test accuracy 1\n",
      "step 3100, training accuracy 1\n",
      "step 3100, test accuracy 1\n",
      "step 3200, training accuracy 0.98\n",
      "step 3200, test accuracy 1\n",
      "step 3300, training accuracy 1\n",
      "step 3300, test accuracy 1\n",
      "step 3400, training accuracy 1\n",
      "step 3400, test accuracy 0.96\n",
      "step 3500, training accuracy 0.98\n",
      "step 3500, test accuracy 0.98\n",
      "step 3600, training accuracy 0.98\n",
      "step 3600, test accuracy 1\n",
      "step 3700, training accuracy 1\n",
      "step 3700, test accuracy 0.98\n",
      "step 3800, training accuracy 0.98\n",
      "step 3800, test accuracy 0.98\n",
      "step 3900, training accuracy 1\n",
      "step 3900, test accuracy 1\n",
      "step 4000, training accuracy 0.94\n",
      "step 4000, test accuracy 0.96\n",
      "step 4100, training accuracy 0.98\n",
      "step 4100, test accuracy 1\n",
      "step 4200, training accuracy 0.96\n",
      "step 4200, test accuracy 1\n",
      "step 4300, training accuracy 0.98\n",
      "step 4300, test accuracy 1\n",
      "step 4400, training accuracy 1\n",
      "step 4400, test accuracy 0.96\n",
      "step 4500, training accuracy 1\n",
      "step 4500, test accuracy 1\n",
      "step 4600, training accuracy 0.98\n",
      "step 4600, test accuracy 1\n",
      "step 4700, training accuracy 0.96\n",
      "step 4700, test accuracy 0.98\n",
      "step 4800, training accuracy 1\n",
      "step 4800, test accuracy 0.96\n",
      "step 4900, training accuracy 1\n",
      "step 4900, test accuracy 0.98\n",
      "step 5000, training accuracy 1\n",
      "step 5000, test accuracy 1\n",
      "step 5100, training accuracy 1\n",
      "step 5100, test accuracy 0.98\n",
      "step 5200, training accuracy 0.98\n",
      "step 5200, test accuracy 1\n",
      "step 5300, training accuracy 1\n",
      "step 5300, test accuracy 0.98\n",
      "step 5400, training accuracy 0.98\n",
      "step 5400, test accuracy 1\n",
      "step 5500, training accuracy 1\n",
      "step 5500, test accuracy 1\n",
      "step 5600, training accuracy 1\n",
      "step 5600, test accuracy 1\n",
      "step 5700, training accuracy 0.98\n",
      "step 5700, test accuracy 0.98\n",
      "step 5800, training accuracy 1\n",
      "step 5800, test accuracy 0.98\n",
      "step 5900, training accuracy 0.98\n",
      "step 5900, test accuracy 1\n",
      "step 6000, training accuracy 0.98\n",
      "step 6000, test accuracy 1\n",
      "step 6100, training accuracy 1\n",
      "step 6100, test accuracy 1\n",
      "step 6200, training accuracy 0.98\n",
      "step 6200, test accuracy 1\n",
      "step 6300, training accuracy 1\n",
      "step 6300, test accuracy 1\n",
      "step 6400, training accuracy 0.98\n",
      "step 6400, test accuracy 1\n",
      "step 6500, training accuracy 1\n",
      "step 6500, test accuracy 0.98\n",
      "step 6600, training accuracy 1\n",
      "step 6600, test accuracy 0.96\n",
      "step 6700, training accuracy 1\n",
      "step 6700, test accuracy 1\n",
      "step 6800, training accuracy 1\n",
      "step 6800, test accuracy 0.98\n",
      "step 6900, training accuracy 1\n",
      "step 6900, test accuracy 1\n",
      "step 7000, training accuracy 0.98\n",
      "step 7000, test accuracy 0.98\n",
      "step 7100, training accuracy 0.98\n",
      "step 7100, test accuracy 0.96\n",
      "step 7200, training accuracy 0.98\n",
      "step 7200, test accuracy 0.98\n",
      "step 7300, training accuracy 0.98\n",
      "step 7300, test accuracy 0.98\n",
      "step 7400, training accuracy 1\n",
      "step 7400, test accuracy 0.98\n",
      "step 7500, training accuracy 1\n",
      "step 7500, test accuracy 0.98\n",
      "step 7600, training accuracy 0.98\n",
      "step 7600, test accuracy 0.98\n",
      "step 7700, training accuracy 1\n",
      "step 7700, test accuracy 1\n",
      "step 7800, training accuracy 1\n",
      "step 7800, test accuracy 0.98\n",
      "step 7900, training accuracy 1\n",
      "step 7900, test accuracy 0.98\n",
      "step 8000, training accuracy 1\n",
      "step 8000, test accuracy 1\n",
      "step 8100, training accuracy 1\n",
      "step 8100, test accuracy 1\n",
      "step 8200, training accuracy 0.96\n",
      "step 8200, test accuracy 0.98\n",
      "step 8300, training accuracy 1\n",
      "step 8300, test accuracy 1\n",
      "step 8400, training accuracy 0.98\n",
      "step 8400, test accuracy 1\n",
      "step 8500, training accuracy 1\n",
      "step 8500, test accuracy 1\n",
      "step 8600, training accuracy 1\n",
      "step 8600, test accuracy 1\n",
      "step 8700, training accuracy 0.98\n",
      "step 8700, test accuracy 1\n",
      "step 8800, training accuracy 1\n",
      "step 8800, test accuracy 0.98\n",
      "step 8900, training accuracy 1\n",
      "step 8900, test accuracy 0.98\n",
      "step 9000, training accuracy 1\n",
      "step 9000, test accuracy 1\n",
      "step 9100, training accuracy 1\n",
      "step 9100, test accuracy 1\n",
      "step 9200, training accuracy 0.98\n",
      "step 9200, test accuracy 1\n",
      "step 9300, training accuracy 1\n",
      "step 9300, test accuracy 0.98\n",
      "step 9400, training accuracy 1\n",
      "step 9400, test accuracy 0.94\n",
      "step 9500, training accuracy 1\n",
      "step 9500, test accuracy 1\n",
      "step 9600, training accuracy 1\n",
      "step 9600, test accuracy 1\n",
      "step 9700, training accuracy 1\n",
      "step 9700, test accuracy 1\n",
      "step 9800, training accuracy 0.98\n",
      "step 9800, test accuracy 1\n",
      "step 9900, training accuracy 1\n",
      "step 9900, test accuracy 1\n",
      " pour la totale = 47.176915\n"
     ]
    }
   ],
   "source": [
    "\n",
    "import numpy as np\n",
    "from pylab import *\n",
    "%matplotlib inline\n",
    "import tempfile\n",
    "\n",
    "nbiter=10000\n",
    "#Iterations\n",
    "x_iter=zeros(nbiter//100)\n",
    "#save_trainAcc\n",
    "Acctrainarray=zeros(nbiter//100)\n",
    "#save_testAcc\n",
    "Acctestarray=zeros(nbiter//100)\n",
    "#save_trainloss\n",
    "losstrainarray=zeros(nbiter//100)\n",
    "\n",
    "#define the parametres used for the evaluation\n",
    "#take the labels\n",
    "\n",
    "#take the predicte²²d values\n",
    "\n",
    "tmps1=time.time() #pour récupérer le temps de tout l'entrainement\n",
    "i=0\n",
    "\n",
    "\n",
    "\n",
    "cross_entropy = tf.reduce_mean(\n",
    "    tf.nn.softmax_cross_entropy_with_logits(labels=y_, logits=y_conv))\n",
    "train_step = tf.train.AdamOptimizer(1e-4).minimize(cross_entropy)\n",
    "correct_prediction = tf.equal(tf.argmax(y_conv,1), tf.argmax(y_,1))\n",
    "accuracy = tf.reduce_mean(tf.cast(correct_prediction, tf.float32))\n",
    "sess.run(tf.global_variables_initializer())\n",
    "for i in range(nbiter):\n",
    "  batch = mnist.train.next_batch(50)\n",
    "\n",
    "\n",
    "\n",
    "  batch_test = mnist.test.next_batch(50)\n",
    "  \n",
    "\n",
    "  if i%100 == 0:   \n",
    "    x_iter[i//100] = i\n",
    "    \n",
    "    #loss\n",
    "    losstrainarray[i//100] = cross_entropy.eval(feed_dict={\n",
    "        x:batch[0], y_: batch[1], keep_prob: 1.0})\n",
    "    \n",
    "    \n",
    "    #accuracies\n",
    "    train_accuracy = accuracy.eval(feed_dict={\n",
    "        x:batch[0], y_: batch[1], keep_prob: 1.0})\n",
    "    Acctrainarray[i//100] = train_accuracy\n",
    "    Acctestarray[i//100] = accuracy.eval(feed_dict={\n",
    "        x:batch_test[0], y_: batch_test[1], keep_prob: 1.0})\n",
    "    \n",
    "    print(\"step %d, training accuracy %g\"%(i, train_accuracy))\n",
    "    \n",
    "    print(\"step %d, test accuracy %g\"%(i, Acctestarray[i//100]))\n",
    "  train_step.run(feed_dict={x: batch[0], y_: batch[1], keep_prob: 0.5})\n",
    "\n",
    "tmps2=time.time()-tmps1\n",
    "print (\" pour la totale = %f\" %tmps2)"
   ]
  },
  {
   "cell_type": "code",
   "execution_count": 19,
   "metadata": {},
   "outputs": [
    {
     "data": {
      "text/plain": [
       "Text(0,0.5,'train_accuracy_standard')"
      ]
     },
     "execution_count": 19,
     "metadata": {},
     "output_type": "execute_result"
    },
    {
     "data": {
      "image/png": "[encoded data removed]",
      "text/plain": [
       "<matplotlib.figure.Figure at 0x7fd6835f3b70>"
      ]
     },
     "metadata": {},
     "output_type": "display_data"
    }
   ],
   "source": [
    "#Plotting the curves\n",
    "from pylab import *\n",
    "%matplotlib inline\n",
    "import tempfile\n",
    "\n",
    "_, ax1 = subplots()\n",
    "\n",
    "ax1.plot(x_iter,Acctrainarray,'b')\n",
    "\n",
    "ax1.set_xlabel('iteration')\n",
    "ax1.set_ylabel('train_accuracy_standard')\n",
    "\n"
   ]
  },
  {
   "cell_type": "code",
   "execution_count": 20,
   "metadata": {},
   "outputs": [
    {
     "data": {
      "text/plain": [
       "Text(0,0.5,'test_accuracystandard')"
      ]
     },
     "execution_count": 20,
     "metadata": {},
     "output_type": "execute_result"
    },
    {
     "data": {
      "image/png": "[encoded data removed]",
      "text/plain": [
       "<matplotlib.figure.Figure at 0x7fd6835f37b8>"
      ]
     },
     "metadata": {},
     "output_type": "display_data"
    }
   ],
   "source": [
    "#Plotting the curves\n",
    "from pylab import *\n",
    "%matplotlib inline\n",
    "import tempfile\n",
    "\n",
    "_, ax1 = subplots()\n",
    "\n",
    "ax1.plot(x_iter, Acctestarray, 'g')\n",
    "\n",
    "\n",
    "ax1.set_ylabel('test_accuracystandard')\n"
   ]
  },
  {
   "cell_type": "code",
   "execution_count": 21,
   "metadata": {},
   "outputs": [
    {
     "data": {
      "text/plain": [
       "Text(0,0.5,'lossTrainStandard')"
      ]
     },
     "execution_count": 21,
     "metadata": {},
     "output_type": "execute_result"
    },
    {
     "data": {
      "image/png": "[encoded data removed]",
      "text/plain": [
       "<matplotlib.figure.Figure at 0x7fd6831d07b8>"
      ]
     },
     "metadata": {},
     "output_type": "display_data"
    }
   ],
   "source": [
    "\n",
    "_, ax1 = subplots()\n",
    "\n",
    "ax1.plot(x_iter, losstrainarray, 'r')\n",
    "\n",
    "\n",
    "ax1.set_ylabel('lossTrainStandard')\n"
   ]
  },
  {
   "cell_type": "code",
   "execution_count": 22,
   "metadata": {},
   "outputs": [
    {
     "data": {
      "text/plain": [
       "<matplotlib.figure.Figure at 0x7f3fcc558c50>"
      ]
     },
     "metadata": {},
     "output_type": "display_data"
    }
   ],
   "source": [
    "plt.savefig('standardCNN.png')"
   ]
  },
  {
   "cell_type": "code",
   "execution_count": null,
   "metadata": {
    "collapsed": true
   },
   "outputs": [],
   "source": []
  },
  {
   "cell_type": "markdown",
   "metadata": {},
   "source": [
    "\n",
    "# CNN Evalutaion"
   ]
  },
  {
   "cell_type": "code",
   "execution_count": 23,
   "metadata": {
    "collapsed": true
   },
   "outputs": [],
   "source": [
    "#required imports\n",
    "from sklearn.metrics import confusion_matrix\n",
    "\n"
   ]
  },
  {
   "cell_type": "markdown",
   "metadata": {},
   "source": [
    "# L1 REGULARIZATION¶"
   ]
  },
  {
   "cell_type": "code",
   "execution_count": 22,
   "metadata": {
    "collapsed": true
   },
   "outputs": [],
   "source": [
    "delta=0.05\n",
    "l1_regularizer = tf.contrib.layers.l1_regularizer(\n",
    "   scale=0.005, scope=None)\n",
    " \n",
    "weights = tf.trainable_variables() # all vars of your graph\n",
    "regularization_penalty = tf.contrib.layers.apply_regularization(l1_regularizer, weights)\n",
    " \n",
    "cross_entropy = cross_entropy + delta*regularization_penalty # this loss needs to be minimized\n",
    " "
   ]
  },
  {
   "cell_type": "code",
   "execution_count": 23,
   "metadata": {},
   "outputs": [
    {
     "name": "stdout",
     "output_type": "stream",
     "text": [
      "step 0, training accuracy 0.14\n",
      "step 0, test accuracy 0.04\n",
      "step 100, training accuracy 0.92\n",
      "step 100, test accuracy 0.8\n",
      "step 200, training accuracy 0.9\n",
      "step 200, test accuracy 0.94\n",
      "step 300, training accuracy 0.94\n",
      "step 300, test accuracy 0.96\n",
      "step 400, training accuracy 0.98\n",
      "step 400, test accuracy 0.92\n",
      "step 500, training accuracy 0.98\n",
      "step 500, test accuracy 1\n",
      "step 600, training accuracy 0.96\n",
      "step 600, test accuracy 0.92\n",
      "step 700, training accuracy 0.96\n",
      "step 700, test accuracy 0.94\n",
      "step 800, training accuracy 0.92\n",
      "step 800, test accuracy 1\n",
      "step 900, training accuracy 0.96\n",
      "step 900, test accuracy 0.98\n",
      "step 1000, training accuracy 0.98\n",
      "step 1000, test accuracy 0.94\n",
      "step 1100, training accuracy 0.98\n",
      "step 1100, test accuracy 1\n",
      "step 1200, training accuracy 0.94\n",
      "step 1200, test accuracy 0.96\n",
      "step 1300, training accuracy 0.96\n",
      "step 1300, test accuracy 0.96\n",
      "step 1400, training accuracy 0.96\n",
      "step 1400, test accuracy 0.96\n",
      "step 1500, training accuracy 1\n",
      "step 1500, test accuracy 0.96\n",
      "step 1600, training accuracy 0.94\n",
      "step 1600, test accuracy 0.98\n",
      "step 1700, training accuracy 1\n",
      "step 1700, test accuracy 0.96\n",
      "step 1800, training accuracy 1\n",
      "step 1800, test accuracy 0.94\n",
      "step 1900, training accuracy 1\n",
      "step 1900, test accuracy 0.98\n",
      "step 2000, training accuracy 1\n",
      "step 2000, test accuracy 1\n",
      "step 2100, training accuracy 0.96\n",
      "step 2100, test accuracy 0.96\n",
      "step 2200, training accuracy 0.98\n",
      "step 2200, test accuracy 0.96\n",
      "step 2300, training accuracy 0.98\n",
      "step 2300, test accuracy 1\n",
      "step 2400, training accuracy 0.94\n",
      "step 2400, test accuracy 0.96\n",
      "step 2500, training accuracy 1\n",
      "step 2500, test accuracy 1\n",
      "step 2600, training accuracy 0.98\n",
      "step 2600, test accuracy 0.98\n",
      "step 2700, training accuracy 0.98\n",
      "step 2700, test accuracy 0.98\n",
      "step 2800, training accuracy 0.94\n",
      "step 2800, test accuracy 0.98\n",
      "step 2900, training accuracy 1\n",
      "step 2900, test accuracy 1\n",
      "step 3000, training accuracy 0.98\n",
      "step 3000, test accuracy 1\n",
      "step 3100, training accuracy 1\n",
      "step 3100, test accuracy 1\n",
      "step 3200, training accuracy 0.96\n",
      "step 3200, test accuracy 0.98\n",
      "step 3300, training accuracy 0.96\n",
      "step 3300, test accuracy 0.98\n",
      "step 3400, training accuracy 0.98\n",
      "step 3400, test accuracy 0.98\n",
      "step 3500, training accuracy 1\n",
      "step 3500, test accuracy 0.98\n",
      "step 3600, training accuracy 0.98\n",
      "step 3600, test accuracy 0.98\n",
      "step 3700, training accuracy 1\n",
      "step 3700, test accuracy 0.98\n",
      "step 3800, training accuracy 1\n",
      "step 3800, test accuracy 0.98\n",
      "step 3900, training accuracy 0.98\n",
      "step 3900, test accuracy 0.96\n",
      "step 4000, training accuracy 0.98\n",
      "step 4000, test accuracy 1\n",
      "step 4100, training accuracy 1\n",
      "step 4100, test accuracy 0.98\n",
      "step 4200, training accuracy 0.98\n",
      "step 4200, test accuracy 1\n",
      "step 4300, training accuracy 1\n",
      "step 4300, test accuracy 0.98\n",
      "step 4400, training accuracy 1\n",
      "step 4400, test accuracy 1\n",
      "step 4500, training accuracy 1\n",
      "step 4500, test accuracy 1\n",
      "step 4600, training accuracy 0.98\n",
      "step 4600, test accuracy 0.98\n",
      "step 4700, training accuracy 0.98\n",
      "step 4700, test accuracy 1\n",
      "step 4800, training accuracy 1\n",
      "step 4800, test accuracy 1\n",
      "step 4900, training accuracy 0.98\n",
      "step 4900, test accuracy 1\n",
      "step 5000, training accuracy 0.98\n",
      "step 5000, test accuracy 1\n",
      "step 5100, training accuracy 0.98\n",
      "step 5100, test accuracy 0.98\n",
      "step 5200, training accuracy 0.98\n",
      "step 5200, test accuracy 1\n",
      "step 5300, training accuracy 1\n",
      "step 5300, test accuracy 1\n",
      "step 5400, training accuracy 1\n",
      "step 5400, test accuracy 1\n",
      "step 5500, training accuracy 0.96\n",
      "step 5500, test accuracy 1\n",
      "step 5600, training accuracy 1\n",
      "step 5600, test accuracy 0.98\n",
      "step 5700, training accuracy 0.98\n",
      "step 5700, test accuracy 0.98\n",
      "step 5800, training accuracy 1\n",
      "step 5800, test accuracy 0.98\n",
      "step 5900, training accuracy 1\n",
      "step 5900, test accuracy 0.96\n",
      "step 6000, training accuracy 1\n",
      "step 6000, test accuracy 1\n",
      "step 6100, training accuracy 0.98\n",
      "step 6100, test accuracy 1\n",
      "step 6200, training accuracy 1\n",
      "step 6200, test accuracy 0.98\n",
      "step 6300, training accuracy 1\n",
      "step 6300, test accuracy 0.98\n",
      "step 6400, training accuracy 1\n",
      "step 6400, test accuracy 0.98\n",
      "step 6500, training accuracy 1\n",
      "step 6500, test accuracy 1\n",
      "step 6600, training accuracy 1\n",
      "step 6600, test accuracy 1\n",
      "step 6700, training accuracy 1\n",
      "step 6700, test accuracy 0.98\n",
      "step 6800, training accuracy 1\n",
      "step 6800, test accuracy 1\n",
      "step 6900, training accuracy 0.98\n",
      "step 6900, test accuracy 0.98\n",
      "step 7000, training accuracy 1\n",
      "step 7000, test accuracy 1\n",
      "step 7100, training accuracy 1\n",
      "step 7100, test accuracy 1\n",
      "step 7200, training accuracy 1\n",
      "step 7200, test accuracy 1\n",
      "step 7300, training accuracy 1\n",
      "step 7300, test accuracy 1\n",
      "step 7400, training accuracy 1\n",
      "step 7400, test accuracy 1\n",
      "step 7500, training accuracy 1\n",
      "step 7500, test accuracy 1\n",
      "step 7600, training accuracy 1\n",
      "step 7600, test accuracy 1\n",
      "step 7700, training accuracy 1\n",
      "step 7700, test accuracy 0.98\n",
      "step 7800, training accuracy 0.98\n",
      "step 7800, test accuracy 1\n",
      "step 7900, training accuracy 1\n",
      "step 7900, test accuracy 1\n",
      "step 8000, training accuracy 0.98\n",
      "step 8000, test accuracy 0.96\n",
      "step 8100, training accuracy 1\n",
      "step 8100, test accuracy 0.98\n",
      "step 8200, training accuracy 1\n",
      "step 8200, test accuracy 1\n",
      "step 8300, training accuracy 0.98\n",
      "step 8300, test accuracy 1\n",
      "step 8400, training accuracy 1\n",
      "step 8400, test accuracy 0.98\n",
      "step 8500, training accuracy 0.98\n",
      "step 8500, test accuracy 0.98\n",
      "step 8600, training accuracy 1\n",
      "step 8600, test accuracy 0.96\n",
      "step 8700, training accuracy 0.98\n",
      "step 8700, test accuracy 0.98\n",
      "step 8800, training accuracy 1\n",
      "step 8800, test accuracy 1\n",
      "step 8900, training accuracy 0.98\n",
      "step 8900, test accuracy 1\n",
      "step 9000, training accuracy 0.98\n",
      "step 9000, test accuracy 1\n",
      "step 9100, training accuracy 1\n",
      "step 9100, test accuracy 0.94\n",
      "step 9200, training accuracy 0.98\n",
      "step 9200, test accuracy 1\n",
      "step 9300, training accuracy 1\n",
      "step 9300, test accuracy 1\n",
      "step 9400, training accuracy 1\n",
      "step 9400, test accuracy 1\n",
      "step 9500, training accuracy 1\n",
      "step 9500, test accuracy 1\n",
      "step 9600, training accuracy 1\n",
      "step 9600, test accuracy 0.98\n",
      "step 9700, training accuracy 1\n",
      "step 9700, test accuracy 0.98\n",
      "step 9800, training accuracy 0.98\n",
      "step 9800, test accuracy 1\n",
      "step 9900, training accuracy 0.96\n",
      "step 9900, test accuracy 0.98\n",
      " pour la totale = 47.205751\n"
     ]
    }
   ],
   "source": [
    "\n",
    "import numpy as np\n",
    "from pylab import *\n",
    "%matplotlib inline\n",
    "import tempfile\n",
    "\n",
    "nbiter=10000\n",
    "#Iterations\n",
    "x_iter=zeros(nbiter//100)\n",
    "#save_trainAcc\n",
    "Acctrainarray=zeros(nbiter//100)\n",
    "#save_testAcc\n",
    "Acctestarray=zeros(nbiter//100)\n",
    "#save_trainloss\n",
    "losstrainarray=zeros(nbiter//100)\n",
    "\n",
    "#define the parametres used for the evaluation\n",
    "#take the labels\n",
    "\n",
    "#take the predicte²²d values\n",
    "\n",
    "tmps1=time.time() #pour récupérer le temps de tout l'entrainement\n",
    "i=0\n",
    "\n",
    "\n",
    "\n",
    "cross_entropy = tf.reduce_mean(\n",
    "    tf.nn.softmax_cross_entropy_with_logits(labels=y_, logits=y_conv))\n",
    "train_step = tf.train.AdamOptimizer(1e-4).minimize(cross_entropy)\n",
    "correct_prediction = tf.equal(tf.argmax(y_conv,1), tf.argmax(y_,1))\n",
    "accuracy = tf.reduce_mean(tf.cast(correct_prediction, tf.float32))\n",
    "sess.run(tf.global_variables_initializer())\n",
    "for i in range(nbiter):\n",
    "  batch = mnist.train.next_batch(50)\n",
    "\n",
    "\n",
    "\n",
    "  batch_test = mnist.test.next_batch(50)\n",
    "  \n",
    "\n",
    "  if i%100 == 0:   \n",
    "    x_iter[i//100] = i\n",
    "    \n",
    "    #loss\n",
    "    losstrainarray[i//100] = cross_entropy.eval(feed_dict={\n",
    "        x:batch[0], y_: batch[1], keep_prob: 1.0})\n",
    "    \n",
    "    \n",
    "    #accuracies\n",
    "    train_accuracy = accuracy.eval(feed_dict={\n",
    "        x:batch[0], y_: batch[1], keep_prob: 1.0})\n",
    "    Acctrainarray[i//100] = train_accuracy\n",
    "    Acctestarray[i//100] = accuracy.eval(feed_dict={\n",
    "        x:batch_test[0], y_: batch_test[1], keep_prob: 1.0})\n",
    "    \n",
    "    print(\"step %d, training accuracy %g\"%(i, train_accuracy))\n",
    "    \n",
    "    print(\"step %d, test accuracy %g\"%(i, Acctestarray[i//100]))\n",
    "  train_step.run(feed_dict={x: batch[0], y_: batch[1], keep_prob: 0.5})\n",
    "\n",
    "tmps2=time.time()-tmps1\n",
    "print (\" pour la totale = %f\" %tmps2)"
   ]
  },
  {
   "cell_type": "code",
   "execution_count": 24,
   "metadata": {},
   "outputs": [
    {
     "data": {
      "text/plain": [
       "Text(0,0.5,'train_accuracy_standard')"
      ]
     },
     "execution_count": 24,
     "metadata": {},
     "output_type": "execute_result"
    },
    {
     "data": {
      "image/png": "[encoded data removed]",
      "text/plain": [
       "<matplotlib.figure.Figure at 0x7fd6831e6b38>"
      ]
     },
     "metadata": {},
     "output_type": "display_data"
    }
   ],
   "source": [
    "#Plotting the curves\n",
    "\n",
    "_, ax1 = subplots()\n",
    "\n",
    "ax1.plot(x_iter,Acctrainarray,'b')\n",
    "\n",
    "ax1.set_xlabel('iteration')\n",
    "ax1.set_ylabel('train_accuracy_standard')\n",
    "\n"
   ]
  },
  {
   "cell_type": "code",
   "execution_count": null,
   "metadata": {
    "collapsed": true
   },
   "outputs": [],
   "source": []
  },
  {
   "cell_type": "code",
   "execution_count": null,
   "metadata": {
    "collapsed": true
   },
   "outputs": [],
   "source": []
  },
  {
   "cell_type": "code",
   "execution_count": null,
   "metadata": {
    "collapsed": true
   },
   "outputs": [],
   "source": []
  },
  {
   "cell_type": "code",
   "execution_count": 26,
   "metadata": {},
   "outputs": [
    {
     "data": {
      "text/plain": [
       "Text(0,0.5,'test_accuracystandard')"
      ]
     },
     "execution_count": 26,
     "metadata": {},
     "output_type": "execute_result"
    },
    {
     "data": {
      "image/png": "[encoded data removed]",
      "text/plain": [
       "<matplotlib.figure.Figure at 0x7fd6831164a8>"
      ]
     },
     "metadata": {},
     "output_type": "display_data"
    }
   ],
   "source": [
    "\n",
    "_, ax1 = subplots()\n",
    "\n",
    "ax1.plot(x_iter, Acctestarray, 'g')\n",
    "\n",
    "\n",
    "ax1.set_ylabel('test_accuracystandard')\n"
   ]
  },
  {
   "cell_type": "code",
   "execution_count": 27,
   "metadata": {},
   "outputs": [
    {
     "data": {
      "text/plain": [
       "Text(0,0.5,'lossTrainStandard')"
      ]
     },
     "execution_count": 27,
     "metadata": {},
     "output_type": "execute_result"
    },
    {
     "data": {
      "image/png": "[encoded data removed]",
      "text/plain": [
       "<matplotlib.figure.Figure at 0x7fd682eb6588>"
      ]
     },
     "metadata": {},
     "output_type": "display_data"
    }
   ],
   "source": [
    "_, ax1 = subplots()\n",
    "\n",
    "ax1.plot(x_iter, losstrainarray, 'r')\n",
    "\n",
    "\n",
    "ax1.set_ylabel('lossTrainStandard')"
   ]
  },
  {
   "cell_type": "markdown",
   "metadata": {},
   "source": [
    "# L2 REGULARIZATION"
   ]
  },
  {
   "cell_type": "code",
   "execution_count": 28,
   "metadata": {
    "collapsed": true
   },
   "outputs": [],
   "source": [
    "beta = 0.01\n",
    "\n",
    "# Original loss function\n",
    "cross_entropy = tf.reduce_mean(\n",
    "    tf.nn.softmax_cross_entropy_with_logits(labels=y_, logits=y_conv))\n",
    "# Loss function using L2 Regularization\n",
    "regularizer = tf.nn.l2_loss(W_conv1 ) + tf.nn.l2_loss(W_conv2 ) + tf.nn.l2_loss(W_fc1 )+ tf.nn.l2_loss(W_fc2 )\n",
    "cross_entropy = tf.reduce_mean(cross_entropy + beta * regularizer)\n"
   ]
  },
  {
   "cell_type": "code",
   "execution_count": 29,
   "metadata": {},
   "outputs": [
    {
     "name": "stdout",
     "output_type": "stream",
     "text": [
      "step 0, training accuracy 0.12\n",
      "step 0, test accuracy 0.18\n",
      "step 100, training accuracy 0.76\n",
      "step 100, test accuracy 0.68\n",
      "step 200, training accuracy 0.96\n",
      "step 200, test accuracy 0.98\n",
      "step 300, training accuracy 0.94\n",
      "step 300, test accuracy 0.92\n",
      "step 400, training accuracy 0.98\n",
      "step 400, test accuracy 1\n",
      "step 500, training accuracy 0.92\n",
      "step 500, test accuracy 0.96\n",
      "step 600, training accuracy 0.96\n",
      "step 600, test accuracy 0.98\n",
      "step 700, training accuracy 0.96\n",
      "step 700, test accuracy 0.94\n",
      "step 800, training accuracy 0.92\n",
      "step 800, test accuracy 0.98\n",
      "step 900, training accuracy 0.94\n",
      "step 900, test accuracy 0.98\n",
      "step 1000, training accuracy 1\n",
      "step 1000, test accuracy 0.98\n",
      "step 1100, training accuracy 0.98\n",
      "step 1100, test accuracy 0.96\n",
      "step 1200, training accuracy 1\n",
      "step 1200, test accuracy 1\n",
      "step 1300, training accuracy 0.96\n",
      "step 1300, test accuracy 0.98\n",
      "step 1400, training accuracy 1\n",
      "step 1400, test accuracy 1\n",
      "step 1500, training accuracy 0.98\n",
      "step 1500, test accuracy 1\n",
      "step 1600, training accuracy 0.94\n",
      "step 1600, test accuracy 0.98\n",
      "step 1700, training accuracy 0.98\n",
      "step 1700, test accuracy 1\n",
      "step 1800, training accuracy 0.96\n",
      "step 1800, test accuracy 0.98\n",
      "step 1900, training accuracy 1\n",
      "step 1900, test accuracy 1\n",
      "step 2000, training accuracy 0.96\n",
      "step 2000, test accuracy 1\n",
      "step 2100, training accuracy 0.98\n",
      "step 2100, test accuracy 1\n",
      "step 2200, training accuracy 0.98\n",
      "step 2200, test accuracy 0.96\n",
      "step 2300, training accuracy 1\n",
      "step 2300, test accuracy 0.98\n",
      "step 2400, training accuracy 0.96\n",
      "step 2400, test accuracy 0.98\n",
      "step 2500, training accuracy 0.98\n",
      "step 2500, test accuracy 1\n",
      "step 2600, training accuracy 0.96\n",
      "step 2600, test accuracy 1\n",
      "step 2700, training accuracy 0.98\n",
      "step 2700, test accuracy 1\n",
      "step 2800, training accuracy 0.9\n",
      "step 2800, test accuracy 0.96\n",
      "step 2900, training accuracy 1\n",
      "step 2900, test accuracy 1\n",
      "step 3000, training accuracy 1\n",
      "step 3000, test accuracy 1\n",
      "step 3100, training accuracy 0.98\n",
      "step 3100, test accuracy 0.98\n",
      "step 3200, training accuracy 1\n",
      "step 3200, test accuracy 0.96\n",
      "step 3300, training accuracy 1\n",
      "step 3300, test accuracy 1\n",
      "step 3400, training accuracy 1\n",
      "step 3400, test accuracy 1\n",
      "step 3500, training accuracy 0.98\n",
      "step 3500, test accuracy 0.96\n",
      "step 3600, training accuracy 0.98\n",
      "step 3600, test accuracy 0.94\n",
      "step 3700, training accuracy 0.96\n",
      "step 3700, test accuracy 0.96\n",
      "step 3800, training accuracy 1\n",
      "step 3800, test accuracy 1\n",
      "step 3900, training accuracy 1\n",
      "step 3900, test accuracy 0.96\n",
      "step 4000, training accuracy 1\n",
      "step 4000, test accuracy 1\n",
      "step 4100, training accuracy 0.96\n",
      "step 4100, test accuracy 1\n",
      "step 4200, training accuracy 1\n",
      "step 4200, test accuracy 0.98\n",
      "step 4300, training accuracy 1\n",
      "step 4300, test accuracy 1\n",
      "step 4400, training accuracy 1\n",
      "step 4400, test accuracy 1\n",
      "step 4500, training accuracy 0.98\n",
      "step 4500, test accuracy 1\n",
      "step 4600, training accuracy 0.98\n",
      "step 4600, test accuracy 0.98\n",
      "step 4700, training accuracy 0.98\n",
      "step 4700, test accuracy 0.98\n",
      "step 4800, training accuracy 1\n",
      "step 4800, test accuracy 0.98\n",
      "step 4900, training accuracy 0.96\n",
      "step 4900, test accuracy 1\n",
      "step 5000, training accuracy 0.98\n",
      "step 5000, test accuracy 0.98\n",
      "step 5100, training accuracy 1\n",
      "step 5100, test accuracy 1\n",
      "step 5200, training accuracy 1\n",
      "step 5200, test accuracy 1\n",
      "step 5300, training accuracy 0.98\n",
      "step 5300, test accuracy 1\n",
      "step 5400, training accuracy 1\n",
      "step 5400, test accuracy 1\n",
      "step 5500, training accuracy 0.96\n",
      "step 5500, test accuracy 0.96\n",
      "step 5600, training accuracy 1\n",
      "step 5600, test accuracy 1\n",
      "step 5700, training accuracy 0.98\n",
      "step 5700, test accuracy 0.96\n",
      "step 5800, training accuracy 1\n",
      "step 5800, test accuracy 0.96\n",
      "step 5900, training accuracy 1\n",
      "step 5900, test accuracy 1\n",
      "step 6000, training accuracy 1\n",
      "step 6000, test accuracy 1\n",
      "step 6100, training accuracy 1\n",
      "step 6100, test accuracy 1\n",
      "step 6200, training accuracy 1\n",
      "step 6200, test accuracy 1\n",
      "step 6300, training accuracy 1\n",
      "step 6300, test accuracy 0.98\n",
      "step 6400, training accuracy 1\n",
      "step 6400, test accuracy 1\n",
      "step 6500, training accuracy 0.98\n",
      "step 6500, test accuracy 0.98\n",
      "step 6600, training accuracy 1\n",
      "step 6600, test accuracy 1\n",
      "step 6700, training accuracy 1\n",
      "step 6700, test accuracy 1\n",
      "step 6800, training accuracy 0.98\n",
      "step 6800, test accuracy 1\n",
      "step 6900, training accuracy 1\n",
      "step 6900, test accuracy 1\n",
      "step 7000, training accuracy 0.94\n",
      "step 7000, test accuracy 1\n",
      "step 7100, training accuracy 0.98\n",
      "step 7100, test accuracy 1\n",
      "step 7200, training accuracy 0.98\n",
      "step 7200, test accuracy 1\n",
      "step 7300, training accuracy 1\n",
      "step 7300, test accuracy 1\n",
      "step 7400, training accuracy 1\n",
      "step 7400, test accuracy 0.98\n",
      "step 7500, training accuracy 1\n",
      "step 7500, test accuracy 1\n",
      "step 7600, training accuracy 1\n",
      "step 7600, test accuracy 0.98\n",
      "step 7700, training accuracy 0.96\n",
      "step 7700, test accuracy 1\n",
      "step 7800, training accuracy 0.98\n",
      "step 7800, test accuracy 1\n",
      "step 7900, training accuracy 1\n",
      "step 7900, test accuracy 0.98\n",
      "step 8000, training accuracy 1\n",
      "step 8000, test accuracy 0.98\n",
      "step 8100, training accuracy 1\n",
      "step 8100, test accuracy 1\n",
      "step 8200, training accuracy 1\n",
      "step 8200, test accuracy 0.98\n",
      "step 8300, training accuracy 0.98\n",
      "step 8300, test accuracy 1\n",
      "step 8400, training accuracy 0.96\n",
      "step 8400, test accuracy 1\n",
      "step 8500, training accuracy 1\n",
      "step 8500, test accuracy 1\n",
      "step 8600, training accuracy 1\n",
      "step 8600, test accuracy 0.98\n",
      "step 8700, training accuracy 1\n",
      "step 8700, test accuracy 1\n",
      "step 8800, training accuracy 1\n",
      "step 8800, test accuracy 1\n",
      "step 8900, training accuracy 1\n",
      "step 8900, test accuracy 1\n",
      "step 9000, training accuracy 1\n",
      "step 9000, test accuracy 0.98\n",
      "step 9100, training accuracy 1\n",
      "step 9100, test accuracy 1\n",
      "step 9200, training accuracy 0.98\n",
      "step 9200, test accuracy 1\n",
      "step 9300, training accuracy 1\n",
      "step 9300, test accuracy 1\n",
      "step 9400, training accuracy 1\n",
      "step 9400, test accuracy 1\n",
      "step 9500, training accuracy 1\n",
      "step 9500, test accuracy 1\n",
      "step 9600, training accuracy 0.98\n",
      "step 9600, test accuracy 1\n",
      "step 9700, training accuracy 1\n",
      "step 9700, test accuracy 0.98\n",
      "step 9800, training accuracy 1\n",
      "step 9800, test accuracy 0.98\n",
      "step 9900, training accuracy 1\n",
      "step 9900, test accuracy 1\n",
      " pour la totale = 47.229585\n"
     ]
    }
   ],
   "source": [
    "\n",
    "import numpy as np\n",
    "from pylab import *\n",
    "%matplotlib inline\n",
    "import tempfile\n",
    "\n",
    "nbiter=10000\n",
    "#Iterations\n",
    "x_iter=zeros(nbiter//100)\n",
    "#save_trainAcc\n",
    "Acctrainarray=zeros(nbiter//100)\n",
    "#save_testAcc\n",
    "Acctestarray=zeros(nbiter//100)\n",
    "#save_trainloss\n",
    "losstrainarray=zeros(nbiter//100)\n",
    "\n",
    "#define the parametres used for the evaluation\n",
    "#take the labels\n",
    "\n",
    "#take the predicte²²d values\n",
    "\n",
    "tmps1=time.time() #pour récupérer le temps de tout l'entrainement\n",
    "i=0\n",
    "\n",
    "\n",
    "\n",
    "cross_entropy = tf.reduce_mean(\n",
    "    tf.nn.softmax_cross_entropy_with_logits(labels=y_, logits=y_conv))\n",
    "train_step = tf.train.AdamOptimizer(1e-4).minimize(cross_entropy)\n",
    "correct_prediction = tf.equal(tf.argmax(y_conv,1), tf.argmax(y_,1))\n",
    "accuracy = tf.reduce_mean(tf.cast(correct_prediction, tf.float32))\n",
    "sess.run(tf.global_variables_initializer())\n",
    "for i in range(nbiter):\n",
    "  batch = mnist.train.next_batch(50)\n",
    "\n",
    "\n",
    "\n",
    "  batch_test = mnist.test.next_batch(50)\n",
    "  \n",
    "\n",
    "  if i%100 == 0:   \n",
    "    x_iter[i//100] = i\n",
    "    \n",
    "    #loss\n",
    "    losstrainarray[i//100] = cross_entropy.eval(feed_dict={\n",
    "        x:batch[0], y_: batch[1], keep_prob: 1.0})\n",
    "    \n",
    "    \n",
    "    #accuracies\n",
    "    train_accuracy = accuracy.eval(feed_dict={\n",
    "        x:batch[0], y_: batch[1], keep_prob: 1.0})\n",
    "    Acctrainarray[i//100] = train_accuracy\n",
    "    Acctestarray[i//100] = accuracy.eval(feed_dict={\n",
    "        x:batch_test[0], y_: batch_test[1], keep_prob: 1.0})\n",
    "    \n",
    "    print(\"step %d, training accuracy %g\"%(i, train_accuracy))\n",
    "    \n",
    "    print(\"step %d, test accuracy %g\"%(i, Acctestarray[i//100]))\n",
    "  train_step.run(feed_dict={x: batch[0], y_: batch[1], keep_prob: 0.5})\n",
    "\n",
    "tmps2=time.time()-tmps1\n",
    "print (\" pour la totale = %f\" %tmps2)"
   ]
  },
  {
   "cell_type": "code",
   "execution_count": 30,
   "metadata": {},
   "outputs": [
    {
     "data": {
      "text/plain": [
       "Text(0,0.5,'train_accuracy_standard')"
      ]
     },
     "execution_count": 30,
     "metadata": {},
     "output_type": "execute_result"
    },
    {
     "data": {
      "image/png": "[encoded data removed]",
      "text/plain": [
       "<matplotlib.figure.Figure at 0x7fd682d8ea58>"
      ]
     },
     "metadata": {},
     "output_type": "display_data"
    }
   ],
   "source": [
    "#Plotting the curves\n",
    "\n",
    "_, ax1 = subplots()\n",
    "\n",
    "ax1.plot(x_iter,Acctrainarray,'b')\n",
    "\n",
    "ax1.set_xlabel('iteration')\n",
    "ax1.set_ylabel('train_accuracy_standard')\n",
    "\n"
   ]
  },
  {
   "cell_type": "code",
   "execution_count": 31,
   "metadata": {},
   "outputs": [
    {
     "data": {
      "text/plain": [
       "Text(0,0.5,'test_accuracystandard')"
      ]
     },
     "execution_count": 31,
     "metadata": {},
     "output_type": "execute_result"
    },
    {
     "data": {
      "image/png": "[encoded data removed]",
      "text/plain": [
       "<matplotlib.figure.Figure at 0x7fd682bb1438>"
      ]
     },
     "metadata": {},
     "output_type": "display_data"
    }
   ],
   "source": [
    "\n",
    "_, ax1 = subplots()\n",
    "\n",
    "ax1.plot(x_iter, Acctestarray, 'g')\n",
    "\n",
    "\n",
    "ax1.set_ylabel('test_accuracystandard')\n"
   ]
  },
  {
   "cell_type": "code",
   "execution_count": 32,
   "metadata": {},
   "outputs": [
    {
     "data": {
      "text/plain": [
       "Text(0,0.5,'lossTrainStandard')"
      ]
     },
     "execution_count": 32,
     "metadata": {},
     "output_type": "execute_result"
    },
    {
     "data": {
      "image/png": "[encoded data removed]",
      "text/plain": [
       "<matplotlib.figure.Figure at 0x7fd682b48668>"
      ]
     },
     "metadata": {},
     "output_type": "display_data"
    }
   ],
   "source": [
    "_, ax1 = subplots()\n",
    "\n",
    "ax1.plot(x_iter, losstrainarray, 'r')\n",
    "\n",
    "\n",
    "ax1.set_ylabel('lossTrainStandard')"
   ]
  },
  {
   "cell_type": "markdown",
   "metadata": {},
   "source": [
    "# METRICS"
   ]
  },
  {
   "cell_type": "code",
   "execution_count": 22,
   "metadata": {},
   "outputs": [
    {
     "data": {
      "text/plain": [
       "array([3, 3, 3, 1, 3, 0, 8, 0, 0, 3, 0, 0, 3, 0, 1, 5, 3, 5, 0, 0, 1, 0, 0,\n",
       "       1, 1, 0, 5, 0, 0, 9, 0, 0, 0, 9, 3, 8, 8, 3, 0, 0, 1, 0, 0, 0, 8, 0,\n",
       "       0, 0, 3, 1])"
      ]
     },
     "execution_count": 22,
     "metadata": {},
     "output_type": "execute_result"
    }
   ],
   "source": [
    "\n",
    "PRED=tf.argmax(y_conv,1)\n",
    "label=tf.argmax(y_,1)\n",
    "PRED.eval(feed_dict={\n",
    "        x:batch[0], y_: batch[1], keep_prob: 1.0})\n"
   ]
  },
  {
   "cell_type": "code",
   "execution_count": 25,
   "metadata": {
    "collapsed": true
   },
   "outputs": [],
   "source": [
    "predicted=PRED.eval(feed_dict={\n",
    "        x:batch[0], y_: batch[1], keep_prob: 1.0})\n",
    "true=label.eval(feed_dict={\n",
    "        x:batch[0], y_: batch[1], keep_prob: 1.0})"
   ]
  },
  {
   "cell_type": "code",
   "execution_count": 27,
   "metadata": {
    "collapsed": true
   },
   "outputs": [],
   "source": [
    "#ConfusionMatrix\n",
    "from sklearn.metrics import confusion_matrix\n",
    "ConfusionMatrix=confusion_matrix(predicted,true)"
   ]
  },
  {
   "cell_type": "code",
   "execution_count": null,
   "metadata": {
    "collapsed": true
   },
   "outputs": [],
   "source": [
    "#Early_stopping\n",
    "##condition\n"
   ]
  },
  {
   "cell_type": "code",
   "execution_count": null,
   "metadata": {
    "collapsed": true
   },
   "outputs": [],
   "source": []
  },
  {
   "cell_type": "code",
   "execution_count": null,
   "metadata": {
    "collapsed": true
   },
   "outputs": [],
   "source": []
  },
  {
   "cell_type": "markdown",
   "metadata": {
    "collapsed": true
   },
   "source": [
    "# early stopping"
   ]
  },
  {
   "cell_type": "code",
   "execution_count": null,
   "metadata": {
    "collapsed": true
   },
   "outputs": [],
   "source": [
    "\n",
    "import numpy as np\n",
    "from pylab import *\n",
    "%matplotlib inline\n",
    "import tempfile\n",
    "nbiter = 200\n",
    "train_step = tf.train.AdamOptimizer(1e-4).minimize(cross_entropy)\n",
    "correct_prediction = tf.equal(tf.argmax(y_conv,1), tf.argmax(y_,1))\n",
    "#Iterations\n",
    "x_iter=zeros(nbiter)\n",
    "#save_trainAcc\n",
    "Acctrainarray=zeros(nbiter)\n",
    "#save_testAcc\n",
    "Acctestarray=zeros(nbiter)\n",
    "#save_trainloss\n",
    "losstrainarray=zeros(nbiter)\n",
    "#save_testloss\n",
    "losstestarray=zeros(nbiter)\n",
    "#define the parametres used for the evaluation\n",
    "#take the labels\n",
    "\n",
    "#take the predicte²²d values\n",
    "\n",
    "accuracy = tf.reduce_mean(tf.cast(correct_prediction, tf.float32))\n",
    "\n",
    "\n",
    "sess.run(tf.global_variables_initializer())\n",
    "\n",
    "for i in range(nbiter):\n",
    "  batch = mnist.train.next_batch(50)\n",
    "  if i%1 == 0:\n",
    "    \n",
    "    x_iter[i] = i\n",
    "    #loss\n",
    "    losstrainarray[i] = cross_entropy.eval(feed_dict={\n",
    "        x:batch[0], y_: batch[1], keep_prob: 1.0})\n",
    "    losstestarray[i] = cross_entropy.eval(feed_dict={\n",
    "        x: mnist.test.images, y_: mnist.test.labels, keep_prob: 1.0})\n",
    "    if ç\n",
    "        if(losstrainarray[i]> losstrainarray[i-1]  and losstrainarray[i]> losstrainarray[i-2] and losstrainarray[i]> losstrainarray[i-3]  and losstrainarray[i]> losstrainarray[i-4])\n",
    "            break\n",
    "    #accuracies\n",
    "    train_accuracy = accuracy.eval(feed_dict={\n",
    "        x:batch[0], y_: batch[1], keep_prob: 1.0})\n",
    "    Acctrainarray[i] = train_accuracy\n",
    "    Acctestarray[i] = accuracy.eval(feed_dict={\n",
    "        x: mnist.test.images, y_: mnist.test.labels, keep_prob: 1.0})\n",
    "    print(\"step %d, training accuracy %g\"%(i, train_accuracy))\n",
    "    print(\"test accuracy %g\"%accuracy.eval(feed_dict={\n",
    "    x: mnist.test.images, y_: mnist.test.labels, keep_prob: 1.0}))\n",
    "  train_step.run(feed_dict={x: batch[0], y_: batch[1], keep_prob: 0.5})\n",
    "\n",
    "print(\"test accuracy %g\"%accuracy.eval(feed_dict={\n",
    "    x: mnist.test.images, y_: mnist.test.labels, keep_prob: 1.0}))"
   ]
  }
 ],
 "metadata": {
  "kernelspec": {
   "display_name": "Python 3",
   "language": "python",
   "name": "python3"
  },
  "language_info": {
   "codemirror_mode": {
    "name": "ipython",
    "version": 3
   },
   "file_extension": ".py",
   "mimetype": "text/x-python",
   "name": "python",
   "nbconvert_exporter": "python",
   "pygments_lexer": "ipython3",
   "version": "3.4.2"
  }
 },
 "nbformat": 4,
 "nbformat_minor": 2
}
